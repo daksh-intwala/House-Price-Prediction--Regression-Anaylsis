{
 "cells": [
  {
   "cell_type": "markdown",
   "id": "fa53d970-e640-4bac-8922-a4654b86881b",
   "metadata": {},
   "source": [
    "# House Prices in US Affected by Supply&Demand Factors"
   ]
  },
  {
   "cell_type": "markdown",
   "id": "bac72d4f-3d7b-4c96-b2db-4566202a0e6f",
   "metadata": {},
   "source": [
    "## Importing Libraries"
   ]
  },
  {
   "cell_type": "code",
   "execution_count": 1,
   "id": "b0319c2f-d471-4306-a708-8b346bc8f164",
   "metadata": {},
   "outputs": [],
   "source": [
    "import pandas as pd\n",
    "import seaborn as sns\n",
    "import numpy as np\n",
    "import matplotlib.pyplot as plt\n",
    "%matplotlib inline\n",
    "from pandas_profiling import ProfileReport\n"
   ]
  },
  {
   "cell_type": "code",
   "execution_count": 2,
   "id": "8a3b3b97-47a0-43fa-bead-8aacf5168276",
   "metadata": {},
   "outputs": [],
   "source": [
    "df = pd.read_csv(\"main_dataset.csv\")"
   ]
  },
  {
   "cell_type": "code",
   "execution_count": 3,
   "id": "e303522b-8a49-4751-859f-06ac98363853",
   "metadata": {},
   "outputs": [
    {
     "data": {
      "text/html": [
       "<div>\n",
       "<style scoped>\n",
       "    .dataframe tbody tr th:only-of-type {\n",
       "        vertical-align: middle;\n",
       "    }\n",
       "\n",
       "    .dataframe tbody tr th {\n",
       "        vertical-align: top;\n",
       "    }\n",
       "\n",
       "    .dataframe thead th {\n",
       "        text-align: right;\n",
       "    }\n",
       "</style>\n",
       "<table border=\"1\" class=\"dataframe\">\n",
       "  <thead>\n",
       "    <tr style=\"text-align: right;\">\n",
       "      <th></th>\n",
       "      <th>sr_no</th>\n",
       "      <th>date</th>\n",
       "      <th>target_home_price</th>\n",
       "      <th>population</th>\n",
       "      <th>monthly_supply_houses</th>\n",
       "      <th>new_permits_thousands</th>\n",
       "      <th>mortgage_rate</th>\n",
       "      <th>gdp_monthly</th>\n",
       "      <th>hcai</th>\n",
       "      <th>employment_percentage</th>\n",
       "      <th>ppi_const_goods</th>\n",
       "      <th>cci_real_estate</th>\n",
       "      <th>deliquency_rate</th>\n",
       "      <th>m3_trillion</th>\n",
       "    </tr>\n",
       "  </thead>\n",
       "  <tbody>\n",
       "    <tr>\n",
       "      <th>0</th>\n",
       "      <td>1</td>\n",
       "      <td>01-01-00</td>\n",
       "      <td>100.552</td>\n",
       "      <td>281083</td>\n",
       "      <td>4.3</td>\n",
       "      <td>1727</td>\n",
       "      <td>8.15</td>\n",
       "      <td>101.488</td>\n",
       "      <td>17.087</td>\n",
       "      <td>74.248</td>\n",
       "      <td>142.4</td>\n",
       "      <td>103.091</td>\n",
       "      <td>1.48</td>\n",
       "      <td>4.6669</td>\n",
       "    </tr>\n",
       "    <tr>\n",
       "      <th>1</th>\n",
       "      <td>2</td>\n",
       "      <td>01-02-00</td>\n",
       "      <td>101.339</td>\n",
       "      <td>281299</td>\n",
       "      <td>4.3</td>\n",
       "      <td>1692</td>\n",
       "      <td>8.25</td>\n",
       "      <td>101.547</td>\n",
       "      <td>17.087</td>\n",
       "      <td>74.270</td>\n",
       "      <td>142.7</td>\n",
       "      <td>103.151</td>\n",
       "      <td>1.48</td>\n",
       "      <td>4.6801</td>\n",
       "    </tr>\n",
       "    <tr>\n",
       "      <th>2</th>\n",
       "      <td>3</td>\n",
       "      <td>01-03-00</td>\n",
       "      <td>102.127</td>\n",
       "      <td>281531</td>\n",
       "      <td>4.3</td>\n",
       "      <td>1651</td>\n",
       "      <td>8.27</td>\n",
       "      <td>101.620</td>\n",
       "      <td>17.087</td>\n",
       "      <td>74.227</td>\n",
       "      <td>143.2</td>\n",
       "      <td>103.059</td>\n",
       "      <td>1.48</td>\n",
       "      <td>4.7108</td>\n",
       "    </tr>\n",
       "    <tr>\n",
       "      <th>3</th>\n",
       "      <td>4</td>\n",
       "      <td>01-04-00</td>\n",
       "      <td>102.922</td>\n",
       "      <td>281763</td>\n",
       "      <td>4.4</td>\n",
       "      <td>1597</td>\n",
       "      <td>8.23</td>\n",
       "      <td>101.690</td>\n",
       "      <td>16.594</td>\n",
       "      <td>74.505</td>\n",
       "      <td>143.2</td>\n",
       "      <td>103.038</td>\n",
       "      <td>1.44</td>\n",
       "      <td>4.7668</td>\n",
       "    </tr>\n",
       "    <tr>\n",
       "      <th>4</th>\n",
       "      <td>5</td>\n",
       "      <td>01-05-00</td>\n",
       "      <td>103.677</td>\n",
       "      <td>281996</td>\n",
       "      <td>4.4</td>\n",
       "      <td>1543</td>\n",
       "      <td>8.13</td>\n",
       "      <td>101.731</td>\n",
       "      <td>16.594</td>\n",
       "      <td>74.089</td>\n",
       "      <td>142.2</td>\n",
       "      <td>103.009</td>\n",
       "      <td>1.44</td>\n",
       "      <td>4.7546</td>\n",
       "    </tr>\n",
       "  </tbody>\n",
       "</table>\n",
       "</div>"
      ],
      "text/plain": [
       "   sr_no      date  target_home_price  population  monthly_supply_houses  \\\n",
       "0      1  01-01-00            100.552      281083                    4.3   \n",
       "1      2  01-02-00            101.339      281299                    4.3   \n",
       "2      3  01-03-00            102.127      281531                    4.3   \n",
       "3      4  01-04-00            102.922      281763                    4.4   \n",
       "4      5  01-05-00            103.677      281996                    4.4   \n",
       "\n",
       "   new_permits_thousands  mortgage_rate  gdp_monthly    hcai  \\\n",
       "0                   1727           8.15      101.488  17.087   \n",
       "1                   1692           8.25      101.547  17.087   \n",
       "2                   1651           8.27      101.620  17.087   \n",
       "3                   1597           8.23      101.690  16.594   \n",
       "4                   1543           8.13      101.731  16.594   \n",
       "\n",
       "   employment_percentage  ppi_const_goods  cci_real_estate  deliquency_rate  \\\n",
       "0                 74.248            142.4          103.091             1.48   \n",
       "1                 74.270            142.7          103.151             1.48   \n",
       "2                 74.227            143.2          103.059             1.48   \n",
       "3                 74.505            143.2          103.038             1.44   \n",
       "4                 74.089            142.2          103.009             1.44   \n",
       "\n",
       "   m3_trillion  \n",
       "0       4.6669  \n",
       "1       4.6801  \n",
       "2       4.7108  \n",
       "3       4.7668  \n",
       "4       4.7546  "
      ]
     },
     "execution_count": 3,
     "metadata": {},
     "output_type": "execute_result"
    }
   ],
   "source": [
    "df.head()"
   ]
  },
  {
   "cell_type": "markdown",
   "id": "b07d1aa2-58d4-4488-8e51-2a432ccb1dc9",
   "metadata": {},
   "source": [
    "## Exploratory Data Analysis"
   ]
  },
  {
   "cell_type": "code",
   "execution_count": 4,
   "id": "f4c6775e-62a5-48a3-9c30-2420f43cb9c5",
   "metadata": {},
   "outputs": [
    {
     "data": {
      "application/vnd.jupyter.widget-view+json": {
       "model_id": "e6dcd6347d1f4a6ca2aaca13e601a9a1",
       "version_major": 2,
       "version_minor": 0
      },
      "text/plain": [
       "Summarize dataset:   0%|          | 0/25 [00:00<?, ?it/s]"
      ]
     },
     "metadata": {},
     "output_type": "display_data"
    },
    {
     "data": {
      "application/vnd.jupyter.widget-view+json": {
       "model_id": "31f41e531fc34d6da4d0c5d9b0a65ef8",
       "version_major": 2,
       "version_minor": 0
      },
      "text/plain": [
       "Generate report structure:   0%|          | 0/1 [00:00<?, ?it/s]"
      ]
     },
     "metadata": {},
     "output_type": "display_data"
    },
    {
     "data": {
      "application/vnd.jupyter.widget-view+json": {
       "model_id": "6f52266fffb245e29d52ecf002573cdf",
       "version_major": 2,
       "version_minor": 0
      },
      "text/plain": [
       "Render HTML:   0%|          | 0/1 [00:00<?, ?it/s]"
      ]
     },
     "metadata": {},
     "output_type": "display_data"
    },
    {
     "data": {
      "application/vnd.jupyter.widget-view+json": {
       "model_id": "9cf13dd9887f419a9debee0f86f32ab8",
       "version_major": 2,
       "version_minor": 0
      },
      "text/plain": [
       "Export report to file:   0%|          | 0/1 [00:00<?, ?it/s]"
      ]
     },
     "metadata": {},
     "output_type": "display_data"
    }
   ],
   "source": [
    "data = df.drop(columns=[\"sr_no\",\"date\"],axis=1)\n",
    "import warnings\n",
    "warnings.filterwarnings(\"ignore\")\n",
    "profile = ProfileReport(data, title=\"Profile Report\")\n",
    "profile.to_file(\"profile_report.html\")\n"
   ]
  },
  {
   "cell_type": "markdown",
   "id": "5fba1ee5-6ef4-4ab0-b314-9fdd9fd13e30",
   "metadata": {},
   "source": [
    "## Feature Scaling - Normalization\n"
   ]
  },
  {
   "cell_type": "code",
   "execution_count": 5,
   "id": "ec0f582d-2e45-4bef-a047-6b2385695139",
   "metadata": {},
   "outputs": [
    {
     "data": {
      "text/html": [
       "<div>\n",
       "<style scoped>\n",
       "    .dataframe tbody tr th:only-of-type {\n",
       "        vertical-align: middle;\n",
       "    }\n",
       "\n",
       "    .dataframe tbody tr th {\n",
       "        vertical-align: top;\n",
       "    }\n",
       "\n",
       "    .dataframe thead th {\n",
       "        text-align: right;\n",
       "    }\n",
       "</style>\n",
       "<table border=\"1\" class=\"dataframe\">\n",
       "  <thead>\n",
       "    <tr style=\"text-align: right;\">\n",
       "      <th></th>\n",
       "      <th>target_home_price</th>\n",
       "      <th>population</th>\n",
       "      <th>monthly_supply_houses</th>\n",
       "      <th>new_permits_thousands</th>\n",
       "      <th>mortgage_rate</th>\n",
       "      <th>gdp_monthly</th>\n",
       "      <th>hcai</th>\n",
       "      <th>employment_percentage</th>\n",
       "      <th>ppi_const_goods</th>\n",
       "      <th>cci_real_estate</th>\n",
       "      <th>deliquency_rate</th>\n",
       "      <th>m3_trillion</th>\n",
       "    </tr>\n",
       "  </thead>\n",
       "  <tbody>\n",
       "    <tr>\n",
       "      <th>0</th>\n",
       "      <td>0.000000</td>\n",
       "      <td>0.000000</td>\n",
       "      <td>0.091954</td>\n",
       "      <td>0.693714</td>\n",
       "      <td>0.911488</td>\n",
       "      <td>0.970310</td>\n",
       "      <td>0.759407</td>\n",
       "      <td>0.981921</td>\n",
       "      <td>0.022886</td>\n",
       "      <td>0.991418</td>\n",
       "      <td>0.097087</td>\n",
       "      <td>0.000000</td>\n",
       "    </tr>\n",
       "    <tr>\n",
       "      <th>1</th>\n",
       "      <td>0.005704</td>\n",
       "      <td>0.004330</td>\n",
       "      <td>0.091954</td>\n",
       "      <td>0.673714</td>\n",
       "      <td>0.930320</td>\n",
       "      <td>0.975683</td>\n",
       "      <td>0.759407</td>\n",
       "      <td>0.983468</td>\n",
       "      <td>0.025871</td>\n",
       "      <td>1.000000</td>\n",
       "      <td>0.097087</td>\n",
       "      <td>0.000896</td>\n",
       "    </tr>\n",
       "    <tr>\n",
       "      <th>2</th>\n",
       "      <td>0.011415</td>\n",
       "      <td>0.008981</td>\n",
       "      <td>0.091954</td>\n",
       "      <td>0.650286</td>\n",
       "      <td>0.934087</td>\n",
       "      <td>0.982332</td>\n",
       "      <td>0.759407</td>\n",
       "      <td>0.980443</td>\n",
       "      <td>0.030846</td>\n",
       "      <td>0.986840</td>\n",
       "      <td>0.097087</td>\n",
       "      <td>0.002980</td>\n",
       "    </tr>\n",
       "    <tr>\n",
       "      <th>3</th>\n",
       "      <td>0.017177</td>\n",
       "      <td>0.013631</td>\n",
       "      <td>0.103448</td>\n",
       "      <td>0.619429</td>\n",
       "      <td>0.926554</td>\n",
       "      <td>0.988707</td>\n",
       "      <td>0.734100</td>\n",
       "      <td>1.000000</td>\n",
       "      <td>0.030846</td>\n",
       "      <td>0.983836</td>\n",
       "      <td>0.092233</td>\n",
       "      <td>0.006782</td>\n",
       "    </tr>\n",
       "    <tr>\n",
       "      <th>4</th>\n",
       "      <td>0.022649</td>\n",
       "      <td>0.018302</td>\n",
       "      <td>0.103448</td>\n",
       "      <td>0.588571</td>\n",
       "      <td>0.907721</td>\n",
       "      <td>0.992441</td>\n",
       "      <td>0.734100</td>\n",
       "      <td>0.970735</td>\n",
       "      <td>0.020896</td>\n",
       "      <td>0.979688</td>\n",
       "      <td>0.092233</td>\n",
       "      <td>0.005954</td>\n",
       "    </tr>\n",
       "    <tr>\n",
       "      <th>...</th>\n",
       "      <td>...</td>\n",
       "      <td>...</td>\n",
       "      <td>...</td>\n",
       "      <td>...</td>\n",
       "      <td>...</td>\n",
       "      <td>...</td>\n",
       "      <td>...</td>\n",
       "      <td>...</td>\n",
       "      <td>...</td>\n",
       "      <td>...</td>\n",
       "      <td>...</td>\n",
       "      <td>...</td>\n",
       "    </tr>\n",
       "    <tr>\n",
       "      <th>248</th>\n",
       "      <td>0.908855</td>\n",
       "      <td>0.991320</td>\n",
       "      <td>0.000000</td>\n",
       "      <td>0.614857</td>\n",
       "      <td>0.214689</td>\n",
       "      <td>0.465847</td>\n",
       "      <td>0.020276</td>\n",
       "      <td>0.469152</td>\n",
       "      <td>0.913433</td>\n",
       "      <td>0.387212</td>\n",
       "      <td>0.038835</td>\n",
       "      <td>0.946265</td>\n",
       "    </tr>\n",
       "    <tr>\n",
       "      <th>249</th>\n",
       "      <td>0.934134</td>\n",
       "      <td>0.994467</td>\n",
       "      <td>0.000000</td>\n",
       "      <td>0.618286</td>\n",
       "      <td>0.207156</td>\n",
       "      <td>0.477869</td>\n",
       "      <td>0.023151</td>\n",
       "      <td>0.530918</td>\n",
       "      <td>0.912438</td>\n",
       "      <td>0.411100</td>\n",
       "      <td>0.054612</td>\n",
       "      <td>0.956183</td>\n",
       "    </tr>\n",
       "    <tr>\n",
       "      <th>250</th>\n",
       "      <td>0.957428</td>\n",
       "      <td>0.997214</td>\n",
       "      <td>0.057471</td>\n",
       "      <td>0.676000</td>\n",
       "      <td>0.207156</td>\n",
       "      <td>0.489617</td>\n",
       "      <td>0.023151</td>\n",
       "      <td>0.533873</td>\n",
       "      <td>0.901493</td>\n",
       "      <td>0.404234</td>\n",
       "      <td>0.054612</td>\n",
       "      <td>0.970379</td>\n",
       "    </tr>\n",
       "    <tr>\n",
       "      <th>251</th>\n",
       "      <td>0.978642</td>\n",
       "      <td>0.999118</td>\n",
       "      <td>0.034483</td>\n",
       "      <td>0.711429</td>\n",
       "      <td>0.145009</td>\n",
       "      <td>0.511566</td>\n",
       "      <td>0.023151</td>\n",
       "      <td>0.544144</td>\n",
       "      <td>0.937313</td>\n",
       "      <td>0.404663</td>\n",
       "      <td>0.054612</td>\n",
       "      <td>0.982002</td>\n",
       "    </tr>\n",
       "    <tr>\n",
       "      <th>252</th>\n",
       "      <td>1.000000</td>\n",
       "      <td>1.000000</td>\n",
       "      <td>0.011494</td>\n",
       "      <td>0.782857</td>\n",
       "      <td>0.156309</td>\n",
       "      <td>0.533515</td>\n",
       "      <td>0.026025</td>\n",
       "      <td>0.556595</td>\n",
       "      <td>1.000000</td>\n",
       "      <td>0.405378</td>\n",
       "      <td>0.040049</td>\n",
       "      <td>1.000000</td>\n",
       "    </tr>\n",
       "  </tbody>\n",
       "</table>\n",
       "<p>253 rows × 12 columns</p>\n",
       "</div>"
      ],
      "text/plain": [
       "     target_home_price  population  monthly_supply_houses  \\\n",
       "0             0.000000    0.000000               0.091954   \n",
       "1             0.005704    0.004330               0.091954   \n",
       "2             0.011415    0.008981               0.091954   \n",
       "3             0.017177    0.013631               0.103448   \n",
       "4             0.022649    0.018302               0.103448   \n",
       "..                 ...         ...                    ...   \n",
       "248           0.908855    0.991320               0.000000   \n",
       "249           0.934134    0.994467               0.000000   \n",
       "250           0.957428    0.997214               0.057471   \n",
       "251           0.978642    0.999118               0.034483   \n",
       "252           1.000000    1.000000               0.011494   \n",
       "\n",
       "     new_permits_thousands  mortgage_rate  gdp_monthly      hcai  \\\n",
       "0                 0.693714       0.911488     0.970310  0.759407   \n",
       "1                 0.673714       0.930320     0.975683  0.759407   \n",
       "2                 0.650286       0.934087     0.982332  0.759407   \n",
       "3                 0.619429       0.926554     0.988707  0.734100   \n",
       "4                 0.588571       0.907721     0.992441  0.734100   \n",
       "..                     ...            ...          ...       ...   \n",
       "248               0.614857       0.214689     0.465847  0.020276   \n",
       "249               0.618286       0.207156     0.477869  0.023151   \n",
       "250               0.676000       0.207156     0.489617  0.023151   \n",
       "251               0.711429       0.145009     0.511566  0.023151   \n",
       "252               0.782857       0.156309     0.533515  0.026025   \n",
       "\n",
       "     employment_percentage  ppi_const_goods  cci_real_estate  deliquency_rate  \\\n",
       "0                 0.981921         0.022886         0.991418         0.097087   \n",
       "1                 0.983468         0.025871         1.000000         0.097087   \n",
       "2                 0.980443         0.030846         0.986840         0.097087   \n",
       "3                 1.000000         0.030846         0.983836         0.092233   \n",
       "4                 0.970735         0.020896         0.979688         0.092233   \n",
       "..                     ...              ...              ...              ...   \n",
       "248               0.469152         0.913433         0.387212         0.038835   \n",
       "249               0.530918         0.912438         0.411100         0.054612   \n",
       "250               0.533873         0.901493         0.404234         0.054612   \n",
       "251               0.544144         0.937313         0.404663         0.054612   \n",
       "252               0.556595         1.000000         0.405378         0.040049   \n",
       "\n",
       "     m3_trillion  \n",
       "0       0.000000  \n",
       "1       0.000896  \n",
       "2       0.002980  \n",
       "3       0.006782  \n",
       "4       0.005954  \n",
       "..           ...  \n",
       "248     0.946265  \n",
       "249     0.956183  \n",
       "250     0.970379  \n",
       "251     0.982002  \n",
       "252     1.000000  \n",
       "\n",
       "[253 rows x 12 columns]"
      ]
     },
     "execution_count": 5,
     "metadata": {},
     "output_type": "execute_result"
    }
   ],
   "source": [
    "from sklearn.preprocessing import MinMaxScaler\n",
    "scaler = MinMaxScaler()\n",
    "n_data=pd.DataFrame(scaler.fit_transform(data), columns=data.columns, index=data.index) \n",
    "n_data"
   ]
  },
  {
   "cell_type": "markdown",
   "id": "04ee4077-821d-4daa-8094-642f0cee8872",
   "metadata": {},
   "source": [
    "## Train-Test Split"
   ]
  },
  {
   "cell_type": "code",
   "execution_count": 6,
   "id": "4c71beea-a2c9-45d6-b419-8c6c8c01a59e",
   "metadata": {},
   "outputs": [],
   "source": [
    "from sklearn.model_selection import train_test_split"
   ]
  },
  {
   "cell_type": "code",
   "execution_count": 7,
   "id": "e50bbc2f-4931-45b6-9427-06253253c337",
   "metadata": {},
   "outputs": [],
   "source": [
    "X_train, X_test, y_train, y_test = train_test_split(n_data.drop(columns=\"target_home_price\", axis=1), n_data[\"target_home_price\"], \n",
    "                                                    test_size= 0.30, random_state=42)"
   ]
  },
  {
   "cell_type": "markdown",
   "id": "55152e77-45b8-4b4d-9fe1-b1f5fe5495e8",
   "metadata": {},
   "source": [
    "## Evaluating Regression Models"
   ]
  },
  {
   "cell_type": "code",
   "execution_count": 8,
   "id": "43f53ed2-c217-49a0-91e8-57fb5bab0b58",
   "metadata": {},
   "outputs": [
    {
     "name": "stdout",
     "output_type": "stream",
     "text": [
      "Mean MAE: 0.183 (0.032)\n"
     ]
    }
   ],
   "source": [
    "from sklearn.model_selection import cross_val_score\n",
    "from sklearn.model_selection import RepeatedKFold\n",
    "from sklearn.linear_model import Lasso\n",
    "\n",
    "# define model\n",
    "model_1 = Lasso(alpha=1.0)\n",
    "# define model evaluation method\n",
    "cv = RepeatedKFold(n_splits=10, n_repeats=3, random_state=1)\n",
    "# evaluate model\n",
    "scores = cross_val_score(model_1, X_train, y_train, scoring='neg_mean_absolute_error', cv=cv, n_jobs=-1)\n",
    "# force scores to be positive\n",
    "scores = np.absolute(scores)\n",
    "\n",
    "print('Mean MAE: %.3f (%.3f)' % (np.mean(scores), np.std(scores)))\n"
   ]
  },
  {
   "cell_type": "code",
   "execution_count": 9,
   "id": "0d24b3bf-f04a-44a5-9679-bd5c2aed7386",
   "metadata": {},
   "outputs": [
    {
     "name": "stdout",
     "output_type": "stream",
     "text": [
      "Mean MAE: 0.039 (0.007)\n"
     ]
    }
   ],
   "source": [
    "from sklearn.linear_model import Ridge\n",
    "model_2 = Ridge(alpha=1.0)\n",
    "\n",
    "# evaluate model\n",
    "scores = cross_val_score(model_2, X_train, y_train, scoring='neg_mean_absolute_error', cv=cv, n_jobs=-1)\n",
    "# force scores to be positive\n",
    "scores = np.absolute(scores)\n",
    "print('Mean MAE: %.3f (%.3f)' % (np.mean(scores), np.std(scores)))"
   ]
  },
  {
   "cell_type": "code",
   "execution_count": 10,
   "id": "93b8af5e-f0bb-4348-85ba-b970097e4743",
   "metadata": {},
   "outputs": [
    {
     "name": "stdout",
     "output_type": "stream",
     "text": [
      "Mean MAE: 0.026 (0.006)\n"
     ]
    }
   ],
   "source": [
    "from sklearn.linear_model import BayesianRidge\n",
    "model_3 = BayesianRidge()\n",
    "\n",
    "# evaluate model\n",
    "scores = cross_val_score(model_3, X_train, y_train, scoring='neg_mean_absolute_error', cv=cv, n_jobs=-1)\n",
    "# force scores to be positive\n",
    "scores = np.absolute(scores)\n",
    "print('Mean MAE: %.3f (%.3f)' % (np.mean(scores), np.std(scores)))\n"
   ]
  },
  {
   "cell_type": "code",
   "execution_count": 11,
   "id": "78a9d1ca-5c32-4008-bfe0-20cb63748bac",
   "metadata": {},
   "outputs": [
    {
     "name": "stdout",
     "output_type": "stream",
     "text": [
      "Mean MAE: 0.027 (0.006)\n"
     ]
    }
   ],
   "source": [
    "from sklearn.linear_model import LinearRegression\n",
    "model_4 = LinearRegression()\n",
    "\n",
    "# evaluate model\n",
    "scores = cross_val_score(model_4, X_train, y_train, scoring='neg_mean_absolute_error', cv=cv, n_jobs=-1)\n",
    "# force scores to be positive\n",
    "scores = np.absolute(scores)\n",
    "print('Mean MAE: %.3f (%.3f)' % (np.mean(scores), np.std(scores)))\n"
   ]
  },
  {
   "cell_type": "code",
   "execution_count": 12,
   "id": "a71a11b4-6be3-4d55-afba-633c0a5748d8",
   "metadata": {},
   "outputs": [
    {
     "name": "stdout",
     "output_type": "stream",
     "text": [
      "Mean MAE: 0.183 (0.032)\n"
     ]
    }
   ],
   "source": [
    "from sklearn.linear_model import ElasticNet\n",
    "model_5 = ElasticNet()\n",
    "\n",
    "# evaluate model\n",
    "scores = cross_val_score(model_5, X_train, y_train, scoring='neg_mean_absolute_error', cv=cv, n_jobs=-1)\n",
    "# force scores to be positive\n",
    "scores = np.absolute(scores)\n",
    "print('Mean MAE: %.3f (%.3f)' % (np.mean(scores), np.std(scores)))\n"
   ]
  },
  {
   "cell_type": "markdown",
   "id": "2bbc0dde-10b1-45ce-a1d0-05ef3ebf23af",
   "metadata": {},
   "source": [
    "BayesianRidge is selected to fit the model."
   ]
  },
  {
   "cell_type": "markdown",
   "id": "b036bee8-be69-435b-8e3e-4595b4b26b67",
   "metadata": {},
   "source": [
    "## Hyperparameter Selection"
   ]
  },
  {
   "cell_type": "code",
   "execution_count": 16,
   "id": "41bae995-a7d2-425a-98dc-870d7a2bd325",
   "metadata": {},
   "outputs": [
    {
     "data": {
      "text/plain": [
       "GridSearchCV(cv=5, estimator=BayesianRidge(),\n",
       "             param_grid={'alpha_1': [0, 1, 2, 3, 4, 5, 6, 7, 8, 9],\n",
       "                         'alpha_2': [0, 1, 2, 3, 4, 5, 6, 7, 8, 9],\n",
       "                         'lambda_1': [0, 1, 2, 3, 4, 5, 6, 7, 8, 9],\n",
       "                         'lambda_2': [0, 1, 2, 3, 4, 5, 6, 7, 8, 9]})"
      ]
     },
     "execution_count": 16,
     "metadata": {},
     "output_type": "execute_result"
    }
   ],
   "source": [
    "from sklearn.model_selection import GridSearchCV\n",
    "\n",
    "clf = GridSearchCV(BayesianRidge(),{\n",
    "    'alpha_1':list(range(0,10,1)),\n",
    "    'alpha_2':list(range(0,10,1)),\n",
    "    'lambda_1':list(range(0,10,1)),\n",
    "    'lambda_2':list(range(0,10,1))\n",
    "\n",
    "}, cv=5, return_train_score=False )\n",
    "\n",
    "clf.fit(X_train, y_train)\n",
    "\n"
   ]
  },
  {
   "cell_type": "code",
   "execution_count": 17,
   "id": "a075cfbf-6693-4d53-8156-2e4b7d3d085d",
   "metadata": {},
   "outputs": [],
   "source": [
    "df = pd.DataFrame(clf.cv_results_)"
   ]
  },
  {
   "cell_type": "code",
   "execution_count": 18,
   "id": "11133327-b5c1-4beb-a4f9-f05499910f58",
   "metadata": {},
   "outputs": [
    {
     "data": {
      "text/html": [
       "<div>\n",
       "<style scoped>\n",
       "    .dataframe tbody tr th:only-of-type {\n",
       "        vertical-align: middle;\n",
       "    }\n",
       "\n",
       "    .dataframe tbody tr th {\n",
       "        vertical-align: top;\n",
       "    }\n",
       "\n",
       "    .dataframe thead th {\n",
       "        text-align: right;\n",
       "    }\n",
       "</style>\n",
       "<table border=\"1\" class=\"dataframe\">\n",
       "  <thead>\n",
       "    <tr style=\"text-align: right;\">\n",
       "      <th></th>\n",
       "      <th>mean_fit_time</th>\n",
       "      <th>std_fit_time</th>\n",
       "      <th>mean_score_time</th>\n",
       "      <th>std_score_time</th>\n",
       "      <th>param_alpha_1</th>\n",
       "      <th>param_alpha_2</th>\n",
       "      <th>param_lambda_1</th>\n",
       "      <th>param_lambda_2</th>\n",
       "      <th>params</th>\n",
       "      <th>split0_test_score</th>\n",
       "      <th>split1_test_score</th>\n",
       "      <th>split2_test_score</th>\n",
       "      <th>split3_test_score</th>\n",
       "      <th>split4_test_score</th>\n",
       "      <th>mean_test_score</th>\n",
       "      <th>std_test_score</th>\n",
       "      <th>rank_test_score</th>\n",
       "    </tr>\n",
       "  </thead>\n",
       "  <tbody>\n",
       "    <tr>\n",
       "      <th>0</th>\n",
       "      <td>0.007997</td>\n",
       "      <td>0.005054</td>\n",
       "      <td>0.004801</td>\n",
       "      <td>0.003920</td>\n",
       "      <td>0</td>\n",
       "      <td>0</td>\n",
       "      <td>0</td>\n",
       "      <td>0</td>\n",
       "      <td>{'alpha_1': 0, 'alpha_2': 0, 'lambda_1': 0, 'l...</td>\n",
       "      <td>0.976379</td>\n",
       "      <td>0.979994</td>\n",
       "      <td>0.972724</td>\n",
       "      <td>0.977950</td>\n",
       "      <td>0.964444</td>\n",
       "      <td>0.974298</td>\n",
       "      <td>0.005472</td>\n",
       "      <td>524</td>\n",
       "    </tr>\n",
       "    <tr>\n",
       "      <th>1</th>\n",
       "      <td>0.002844</td>\n",
       "      <td>0.003529</td>\n",
       "      <td>0.000000</td>\n",
       "      <td>0.000000</td>\n",
       "      <td>0</td>\n",
       "      <td>0</td>\n",
       "      <td>0</td>\n",
       "      <td>1</td>\n",
       "      <td>{'alpha_1': 0, 'alpha_2': 0, 'lambda_1': 0, 'l...</td>\n",
       "      <td>0.976035</td>\n",
       "      <td>0.980123</td>\n",
       "      <td>0.972425</td>\n",
       "      <td>0.977922</td>\n",
       "      <td>0.964544</td>\n",
       "      <td>0.974210</td>\n",
       "      <td>0.005453</td>\n",
       "      <td>1044</td>\n",
       "    </tr>\n",
       "    <tr>\n",
       "      <th>2</th>\n",
       "      <td>0.000000</td>\n",
       "      <td>0.000000</td>\n",
       "      <td>0.000000</td>\n",
       "      <td>0.000000</td>\n",
       "      <td>0</td>\n",
       "      <td>0</td>\n",
       "      <td>0</td>\n",
       "      <td>2</td>\n",
       "      <td>{'alpha_1': 0, 'alpha_2': 0, 'lambda_1': 0, 'l...</td>\n",
       "      <td>0.975921</td>\n",
       "      <td>0.980151</td>\n",
       "      <td>0.972336</td>\n",
       "      <td>0.977900</td>\n",
       "      <td>0.964567</td>\n",
       "      <td>0.974175</td>\n",
       "      <td>0.005447</td>\n",
       "      <td>1312</td>\n",
       "    </tr>\n",
       "    <tr>\n",
       "      <th>3</th>\n",
       "      <td>0.003127</td>\n",
       "      <td>0.006253</td>\n",
       "      <td>0.003126</td>\n",
       "      <td>0.006252</td>\n",
       "      <td>0</td>\n",
       "      <td>0</td>\n",
       "      <td>0</td>\n",
       "      <td>3</td>\n",
       "      <td>{'alpha_1': 0, 'alpha_2': 0, 'lambda_1': 0, 'l...</td>\n",
       "      <td>0.975865</td>\n",
       "      <td>0.980163</td>\n",
       "      <td>0.972293</td>\n",
       "      <td>0.977888</td>\n",
       "      <td>0.964577</td>\n",
       "      <td>0.974157</td>\n",
       "      <td>0.005443</td>\n",
       "      <td>1533</td>\n",
       "    </tr>\n",
       "    <tr>\n",
       "      <th>4</th>\n",
       "      <td>0.006252</td>\n",
       "      <td>0.007657</td>\n",
       "      <td>0.000000</td>\n",
       "      <td>0.000000</td>\n",
       "      <td>0</td>\n",
       "      <td>0</td>\n",
       "      <td>0</td>\n",
       "      <td>4</td>\n",
       "      <td>{'alpha_1': 0, 'alpha_2': 0, 'lambda_1': 0, 'l...</td>\n",
       "      <td>0.975830</td>\n",
       "      <td>0.980170</td>\n",
       "      <td>0.972267</td>\n",
       "      <td>0.977880</td>\n",
       "      <td>0.964583</td>\n",
       "      <td>0.974146</td>\n",
       "      <td>0.005441</td>\n",
       "      <td>1709</td>\n",
       "    </tr>\n",
       "    <tr>\n",
       "      <th>...</th>\n",
       "      <td>...</td>\n",
       "      <td>...</td>\n",
       "      <td>...</td>\n",
       "      <td>...</td>\n",
       "      <td>...</td>\n",
       "      <td>...</td>\n",
       "      <td>...</td>\n",
       "      <td>...</td>\n",
       "      <td>...</td>\n",
       "      <td>...</td>\n",
       "      <td>...</td>\n",
       "      <td>...</td>\n",
       "      <td>...</td>\n",
       "      <td>...</td>\n",
       "      <td>...</td>\n",
       "      <td>...</td>\n",
       "      <td>...</td>\n",
       "    </tr>\n",
       "    <tr>\n",
       "      <th>9995</th>\n",
       "      <td>0.003126</td>\n",
       "      <td>0.006252</td>\n",
       "      <td>0.003126</td>\n",
       "      <td>0.006252</td>\n",
       "      <td>9</td>\n",
       "      <td>9</td>\n",
       "      <td>9</td>\n",
       "      <td>5</td>\n",
       "      <td>{'alpha_1': 9, 'alpha_2': 9, 'lambda_1': 9, 'l...</td>\n",
       "      <td>0.970462</td>\n",
       "      <td>0.972322</td>\n",
       "      <td>0.969194</td>\n",
       "      <td>0.971611</td>\n",
       "      <td>0.955810</td>\n",
       "      <td>0.967880</td>\n",
       "      <td>0.006127</td>\n",
       "      <td>8010</td>\n",
       "    </tr>\n",
       "    <tr>\n",
       "      <th>9996</th>\n",
       "      <td>0.005348</td>\n",
       "      <td>0.004479</td>\n",
       "      <td>0.000000</td>\n",
       "      <td>0.000000</td>\n",
       "      <td>9</td>\n",
       "      <td>9</td>\n",
       "      <td>9</td>\n",
       "      <td>6</td>\n",
       "      <td>{'alpha_1': 9, 'alpha_2': 9, 'lambda_1': 9, 'l...</td>\n",
       "      <td>0.971806</td>\n",
       "      <td>0.973555</td>\n",
       "      <td>0.970020</td>\n",
       "      <td>0.972427</td>\n",
       "      <td>0.957133</td>\n",
       "      <td>0.968988</td>\n",
       "      <td>0.006037</td>\n",
       "      <td>7658</td>\n",
       "    </tr>\n",
       "    <tr>\n",
       "      <th>9997</th>\n",
       "      <td>0.003201</td>\n",
       "      <td>0.003921</td>\n",
       "      <td>0.001600</td>\n",
       "      <td>0.003200</td>\n",
       "      <td>9</td>\n",
       "      <td>9</td>\n",
       "      <td>9</td>\n",
       "      <td>7</td>\n",
       "      <td>{'alpha_1': 9, 'alpha_2': 9, 'lambda_1': 9, 'l...</td>\n",
       "      <td>0.972758</td>\n",
       "      <td>0.974440</td>\n",
       "      <td>0.970621</td>\n",
       "      <td>0.973054</td>\n",
       "      <td>0.958111</td>\n",
       "      <td>0.969797</td>\n",
       "      <td>0.005970</td>\n",
       "      <td>7301</td>\n",
       "    </tr>\n",
       "    <tr>\n",
       "      <th>9998</th>\n",
       "      <td>0.004725</td>\n",
       "      <td>0.006269</td>\n",
       "      <td>0.001614</td>\n",
       "      <td>0.003229</td>\n",
       "      <td>9</td>\n",
       "      <td>9</td>\n",
       "      <td>9</td>\n",
       "      <td>8</td>\n",
       "      <td>{'alpha_1': 9, 'alpha_2': 9, 'lambda_1': 9, 'l...</td>\n",
       "      <td>0.973465</td>\n",
       "      <td>0.975109</td>\n",
       "      <td>0.971078</td>\n",
       "      <td>0.973558</td>\n",
       "      <td>0.958867</td>\n",
       "      <td>0.970416</td>\n",
       "      <td>0.005916</td>\n",
       "      <td>6953</td>\n",
       "    </tr>\n",
       "    <tr>\n",
       "      <th>9999</th>\n",
       "      <td>0.000000</td>\n",
       "      <td>0.000000</td>\n",
       "      <td>0.000000</td>\n",
       "      <td>0.000000</td>\n",
       "      <td>9</td>\n",
       "      <td>9</td>\n",
       "      <td>9</td>\n",
       "      <td>9</td>\n",
       "      <td>{'alpha_1': 9, 'alpha_2': 9, 'lambda_1': 9, 'l...</td>\n",
       "      <td>0.974009</td>\n",
       "      <td>0.975636</td>\n",
       "      <td>0.971439</td>\n",
       "      <td>0.973976</td>\n",
       "      <td>0.959472</td>\n",
       "      <td>0.970906</td>\n",
       "      <td>0.005873</td>\n",
       "      <td>6609</td>\n",
       "    </tr>\n",
       "  </tbody>\n",
       "</table>\n",
       "<p>10000 rows × 17 columns</p>\n",
       "</div>"
      ],
      "text/plain": [
       "      mean_fit_time  std_fit_time  mean_score_time  std_score_time  \\\n",
       "0          0.007997      0.005054         0.004801        0.003920   \n",
       "1          0.002844      0.003529         0.000000        0.000000   \n",
       "2          0.000000      0.000000         0.000000        0.000000   \n",
       "3          0.003127      0.006253         0.003126        0.006252   \n",
       "4          0.006252      0.007657         0.000000        0.000000   \n",
       "...             ...           ...              ...             ...   \n",
       "9995       0.003126      0.006252         0.003126        0.006252   \n",
       "9996       0.005348      0.004479         0.000000        0.000000   \n",
       "9997       0.003201      0.003921         0.001600        0.003200   \n",
       "9998       0.004725      0.006269         0.001614        0.003229   \n",
       "9999       0.000000      0.000000         0.000000        0.000000   \n",
       "\n",
       "     param_alpha_1 param_alpha_2 param_lambda_1 param_lambda_2  \\\n",
       "0                0             0              0              0   \n",
       "1                0             0              0              1   \n",
       "2                0             0              0              2   \n",
       "3                0             0              0              3   \n",
       "4                0             0              0              4   \n",
       "...            ...           ...            ...            ...   \n",
       "9995             9             9              9              5   \n",
       "9996             9             9              9              6   \n",
       "9997             9             9              9              7   \n",
       "9998             9             9              9              8   \n",
       "9999             9             9              9              9   \n",
       "\n",
       "                                                 params  split0_test_score  \\\n",
       "0     {'alpha_1': 0, 'alpha_2': 0, 'lambda_1': 0, 'l...           0.976379   \n",
       "1     {'alpha_1': 0, 'alpha_2': 0, 'lambda_1': 0, 'l...           0.976035   \n",
       "2     {'alpha_1': 0, 'alpha_2': 0, 'lambda_1': 0, 'l...           0.975921   \n",
       "3     {'alpha_1': 0, 'alpha_2': 0, 'lambda_1': 0, 'l...           0.975865   \n",
       "4     {'alpha_1': 0, 'alpha_2': 0, 'lambda_1': 0, 'l...           0.975830   \n",
       "...                                                 ...                ...   \n",
       "9995  {'alpha_1': 9, 'alpha_2': 9, 'lambda_1': 9, 'l...           0.970462   \n",
       "9996  {'alpha_1': 9, 'alpha_2': 9, 'lambda_1': 9, 'l...           0.971806   \n",
       "9997  {'alpha_1': 9, 'alpha_2': 9, 'lambda_1': 9, 'l...           0.972758   \n",
       "9998  {'alpha_1': 9, 'alpha_2': 9, 'lambda_1': 9, 'l...           0.973465   \n",
       "9999  {'alpha_1': 9, 'alpha_2': 9, 'lambda_1': 9, 'l...           0.974009   \n",
       "\n",
       "      split1_test_score  split2_test_score  split3_test_score  \\\n",
       "0              0.979994           0.972724           0.977950   \n",
       "1              0.980123           0.972425           0.977922   \n",
       "2              0.980151           0.972336           0.977900   \n",
       "3              0.980163           0.972293           0.977888   \n",
       "4              0.980170           0.972267           0.977880   \n",
       "...                 ...                ...                ...   \n",
       "9995           0.972322           0.969194           0.971611   \n",
       "9996           0.973555           0.970020           0.972427   \n",
       "9997           0.974440           0.970621           0.973054   \n",
       "9998           0.975109           0.971078           0.973558   \n",
       "9999           0.975636           0.971439           0.973976   \n",
       "\n",
       "      split4_test_score  mean_test_score  std_test_score  rank_test_score  \n",
       "0              0.964444         0.974298        0.005472              524  \n",
       "1              0.964544         0.974210        0.005453             1044  \n",
       "2              0.964567         0.974175        0.005447             1312  \n",
       "3              0.964577         0.974157        0.005443             1533  \n",
       "4              0.964583         0.974146        0.005441             1709  \n",
       "...                 ...              ...             ...              ...  \n",
       "9995           0.955810         0.967880        0.006127             8010  \n",
       "9996           0.957133         0.968988        0.006037             7658  \n",
       "9997           0.958111         0.969797        0.005970             7301  \n",
       "9998           0.958867         0.970416        0.005916             6953  \n",
       "9999           0.959472         0.970906        0.005873             6609  \n",
       "\n",
       "[10000 rows x 17 columns]"
      ]
     },
     "execution_count": 18,
     "metadata": {},
     "output_type": "execute_result"
    }
   ],
   "source": [
    "df"
   ]
  },
  {
   "cell_type": "code",
   "execution_count": 19,
   "id": "d2799744-2c32-4ce4-a3a7-ae686ba25a47",
   "metadata": {},
   "outputs": [
    {
     "name": "stdout",
     "output_type": "stream",
     "text": [
      "0.9743315770691534\n"
     ]
    }
   ],
   "source": [
    " print(np.max(df[\"mean_test_score\"]))"
   ]
  },
  {
   "cell_type": "code",
   "execution_count": 20,
   "id": "92dce2d4-89aa-40e1-be85-e9471598ba4a",
   "metadata": {},
   "outputs": [
    {
     "name": "stdout",
     "output_type": "stream",
     "text": [
      "score: 0.9743315770691534, row no. : 149\n"
     ]
    }
   ],
   "source": [
    "for i in range(1000):\n",
    "    if df[\"mean_test_score\"][i]== np.max(df[\"mean_test_score\"]):\n",
    "        print(\"score: {}, row no. : {}\".format(np.max(df[\"mean_test_score\"]), i))\n",
    "        "
   ]
  },
  {
   "cell_type": "code",
   "execution_count": 21,
   "id": "d2259feb-36bb-4da6-938c-199264c07018",
   "metadata": {},
   "outputs": [
    {
     "name": "stdout",
     "output_type": "stream",
     "text": [
      "Hyper Parameters are:\n",
      "            alpha_1: 0\n",
      "            alpha_2: 1\n",
      "            \n",
      "            lambda_1: 9\n",
      "            lambda_2: 9\n"
     ]
    }
   ],
   "source": [
    "print('''Hyper Parameters are:\n",
    "            alpha_1: {}\n",
    "            alpha_2: {}\n",
    "            \n",
    "            lambda_1: {}\n",
    "            lambda_2: {}'''.format(df[\"param_alpha_1\"][149], df[\"param_alpha_2\"][149], df[\"param_lambda_1\"][i], df[\"param_lambda_2\"][i]))"
   ]
  },
  {
   "cell_type": "markdown",
   "id": "42752a74-3521-44b7-9043-57f29041e76b",
   "metadata": {},
   "source": [
    "## Model Fitting"
   ]
  },
  {
   "cell_type": "code",
   "execution_count": 116,
   "id": "b49456ee-28ac-480a-821c-3c61b5048178",
   "metadata": {},
   "outputs": [],
   "source": [
    "# Model Defining and Fitting\n",
    "model_br= BayesianRidge(alpha_1=0, alpha_2=1, lambda_1=9, lambda_2=9)\n",
    "fit_data = model_br.fit(X_train, y_train)\n"
   ]
  },
  {
   "cell_type": "code",
   "execution_count": 138,
   "id": "c21827f6-a5f4-4351-a78d-c54cea98364a",
   "metadata": {},
   "outputs": [
    {
     "data": {
      "image/png": "[encoded data removed]",
      "text/plain": [
       "<Figure size 720x720 with 1 Axes>"
      ]
     },
     "metadata": {
      "needs_background": "light"
     },
     "output_type": "display_data"
    }
   ],
   "source": [
    "# Prediction\n",
    "\n",
    "prediction = fit_data.predict(X_test)\n",
    "\n",
    "# Plotting both the curves simultaneously\n",
    "plt.figure(figsize=(10,10))\n",
    "plt.scatter(y_test, prediction, c='crimson')\n",
    "plt.yscale('log')\n",
    "plt.xscale('log')\n",
    "\n",
    "p1 = max(max(prediction), max(y_test))\n",
    "p2 = min(min(prediction), min(y_test))\n",
    "plt.plot([p1, p2], [p1, p2], 'b-')\n",
    "plt.xlabel('True Values', fontsize=15)\n",
    "plt.ylabel('Predictions', fontsize=15)\n",
    "plt.title(\"Accuracy Plot\")\n",
    "plt.axis('equal')\n",
    "plt.show()\n"
   ]
  },
  {
   "cell_type": "markdown",
   "id": "ba4f0181-2787-4bb4-99e8-a590a0453505",
   "metadata": {},
   "source": [
    "## Bias-Variance Check"
   ]
  },
  {
   "cell_type": "code",
   "execution_count": 118,
   "id": "ec81002d-4728-4cda-a1ce-8b3aed8f72cc",
   "metadata": {},
   "outputs": [
    {
     "name": "stdout",
     "output_type": "stream",
     "text": [
      "Average Bias :  0.0010747944409308903\n",
      "Average Variance :  0.00012950546109051045\n"
     ]
    }
   ],
   "source": [
    "from mlxtend.evaluate import bias_variance_decomp\n",
    "X_tr = X_train.to_numpy(dtype ='float32')\n",
    "X_tst = X_test.to_numpy(dtype ='float32')\n",
    "y_tr = y_train.to_numpy(dtype ='float32')\n",
    "y_tst = y_test.to_numpy(dtype ='float32')\n",
    "\n",
    "mse, bias, variance = bias_variance_decomp(model_br, X_tr, y_tr, X_tst, y_tst, \n",
    "                                           loss='mse', num_rounds=200, random_seed=123)\n",
    "print(\"Average Bias : \", bias)\n",
    "print(\"Average Variance : \", variance)"
   ]
  },
  {
   "cell_type": "markdown",
   "id": "bb91594a-3b56-4ea2-9039-57cf87b74f15",
   "metadata": {},
   "source": [
    "## Error Analyisis"
   ]
  },
  {
   "cell_type": "code",
   "execution_count": 139,
   "id": "fc0d2cf6-def1-4e9c-87cf-ef39bd4eabef",
   "metadata": {},
   "outputs": [
    {
     "name": "stdout",
     "output_type": "stream",
     "text": [
      "0.03715250240585421\n"
     ]
    },
    {
     "data": {
      "text/plain": [
       "0.9735937201381715"
      ]
     },
     "execution_count": 139,
     "metadata": {},
     "output_type": "execute_result"
    }
   ],
   "source": [
    "from sklearn.metrics import mean_squared_error, r2_score\n",
    "rmse=np.sqrt(mean_squared_error(y_test, prediction))\n",
    "print(rmse)\n",
    "r2_score(y_test, prediction)\n"
   ]
  },
  {
   "cell_type": "markdown",
   "id": "6cf597cf-d740-4b1a-964a-d8aa3c39f54a",
   "metadata": {},
   "source": [
    "## OLS "
   ]
  },
  {
   "cell_type": "raw",
   "id": "72e7b5d3-d6c5-4718-8a65-847bf0f7e5eb",
   "metadata": {},
   "source": [
    "import statsmodels.api as sm"
   ]
  },
  {
   "cell_type": "code",
   "execution_count": 128,
   "id": "d19d0545-1335-478c-8ba0-aae52080d3cd",
   "metadata": {},
   "outputs": [],
   "source": [
    "result = sm.OLS(y_train, X_train).fit()"
   ]
  },
  {
   "cell_type": "code",
   "execution_count": 130,
   "id": "b06559b1-fe83-48cf-b4f2-cfd9a96c8d8f",
   "metadata": {},
   "outputs": [
    {
     "name": "stdout",
     "output_type": "stream",
     "text": [
      "                                 OLS Regression Results                                \n",
      "=======================================================================================\n",
      "Dep. Variable:      target_home_price   R-squared (uncentered):                   0.992\n",
      "Model:                            OLS   Adj. R-squared (uncentered):              0.991\n",
      "Method:                 Least Squares   F-statistic:                              1804.\n",
      "Date:                Thu, 09 Sep 2021   Prob (F-statistic):                   1.67e-166\n",
      "Time:                        23:25:52   Log-Likelihood:                          298.56\n",
      "No. Observations:                 177   AIC:                                     -575.1\n",
      "Df Residuals:                     166   BIC:                                     -540.2\n",
      "Df Model:                          11                                                  \n",
      "Covariance Type:            nonrobust                                                  \n",
      "=========================================================================================\n",
      "                            coef    std err          t      P>|t|      [0.025      0.975]\n",
      "-----------------------------------------------------------------------------------------\n",
      "population                0.2752      0.131      2.101      0.037       0.017       0.534\n",
      "monthly_supply_houses     0.5260      0.036     14.657      0.000       0.455       0.597\n",
      "new_permits_thousands     0.3079      0.065      4.715      0.000       0.179       0.437\n",
      "mortgage_rate            -0.0432      0.054     -0.800      0.425      -0.150       0.063\n",
      "gdp_monthly              -0.0913      0.072     -1.269      0.206      -0.233       0.051\n",
      "hcai                      0.2955      0.048      6.118      0.000       0.200       0.391\n",
      "employment_percentage    -0.2704      0.070     -3.864      0.000      -0.409      -0.132\n",
      "ppi_const_goods           0.2457      0.081      3.036      0.003       0.086       0.406\n",
      "cci_real_estate          -0.0028      0.034     -0.082      0.935      -0.070       0.065\n",
      "deliquency_rate          -0.2349      0.028     -8.402      0.000      -0.290      -0.180\n",
      "m3_trillion               0.3945      0.170      2.320      0.022       0.059       0.730\n",
      "==============================================================================\n",
      "Omnibus:                        8.656   Durbin-Watson:                   1.854\n",
      "Prob(Omnibus):                  0.013   Jarque-Bera (JB):               13.230\n",
      "Skew:                           0.249   Prob(JB):                      0.00134\n",
      "Kurtosis:                       4.243   Cond. No.                         105.\n",
      "==============================================================================\n",
      "\n",
      "Notes:\n",
      "[1] R² is computed without centering (uncentered) since the model does not contain a constant.\n",
      "[2] Standard Errors assume that the covariance matrix of the errors is correctly specified.\n"
     ]
    }
   ],
   "source": [
    "print(result.summary())"
   ]
  },
  {
   "cell_type": "markdown",
   "id": "542f1ce3-cf20-49c0-b2eb-d5bec9f21faa",
   "metadata": {},
   "source": [
    "## Conclusion"
   ]
  },
  {
   "cell_type": "markdown",
   "id": "adb6aaed-4d24-45aa-b115-f47e8e6449a3",
   "metadata": {},
   "source": [
    "Prediction Model: Bayesian Regression Model - as it shows the least error and better accuracy among other regression models.\n",
    "\n",
    "OLS Analysis shows that monthly GDP, morgage rate and cci rate does not impact much on the house prices as per the collected data.\n",
    "This analysis has a loophole of collection of data(i.e. each individual column field of data was collected separately); \n",
    "it might induce uncertainity in data relevancy because each data can be scaled differently on the basis of owner's convenience. \n",
    "\n",
    "As far as accuracy is concerned, this model has performance parameter of 97.8%.\n"
   ]
  },
  {
   "cell_type": "code",
   "execution_count": 157,
   "id": "bb1c9050-9dfd-4c24-93da-44b7a176a061",
   "metadata": {},
   "outputs": [],
   "source": [
    "# Extras\n",
    "df.to_hdf(\"hdf_dataset.h5\", key='h')"
   ]
  }
 ],
 "metadata": {
  "kernelspec": {
   "display_name": "Python 3",
   "language": "python",
   "name": "python3"
  },
  "language_info": {
   "codemirror_mode": {
    "name": "ipython",
    "version": 3
   },
   "file_extension": ".py",
   "mimetype": "text/x-python",
   "name": "python",
   "nbconvert_exporter": "python",
   "pygments_lexer": "ipython3",
   "version": "3.8.10"
  }
 },
 "nbformat": 4,
 "nbformat_minor": 5
}
